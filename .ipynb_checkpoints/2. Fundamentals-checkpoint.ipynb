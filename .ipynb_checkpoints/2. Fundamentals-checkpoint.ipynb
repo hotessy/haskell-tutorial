{
 "cells": [
  {
   "cell_type": "markdown",
   "metadata": {},
   "source": [
    "## Content"
   ]
  },
  {
   "cell_type": "markdown",
   "metadata": {},
   "source": [
    "Lesson material at [http://learn.hfm.io/fundamentals.html](http://learn.hfm.io/fundamentals.html)"
   ]
  },
  {
   "cell_type": "markdown",
   "metadata": {},
   "source": [
    "## Exercises"
   ]
  },
  {
   "cell_type": "markdown",
   "metadata": {},
   "source": [
    "1. Write a function `sort2 :: Ord a => a -> a -> (a, a)` which accepts two `Int` values as arguments and returns them as a sorted pair, so that `sort2 5 3` is equal to `(3,5)`. How can you define the function using a conditional, how can you do it using guards?"
   ]
  },
  {
   "cell_type": "markdown",
   "metadata": {},
   "source": [
    "2. Consider a function\n",
    "\n",
    "```haskell\n",
    "almostEqual :: Eq a => (a, a) -> (a, a) -> Bool\n",
    "```\n",
    "which compares the values of two pairs. It returns `True` if both pairs contain the same values, regardless of the order. For example, `almostEqual (3,4) (4,3)` is `True`, but `almostEqual (3,4) (3,5)` is `False`. Which of the following definitions return the correct value? Which of the definitions would you consider good style? Why?\n",
    "\n",
    "(The operator (`&&`) is logical ”and”, the operator (`||`) is logical ’or’, and (`==`) tests if two values are equal. The first two are of type `Bool -> Bool -> Bool`; the third is of type `Eq a => a -> a -> Bool`.)\n",
    "\n",
    "```haskell\n",
    "almostEqual (x1, y1) (x2, y2)\n",
    "  | (x1 == x2) && (y1 == y2) = True\n",
    "  | (x1 == y2) && (y1 == x2) = True\n",
    "  | otherwise                = False\n",
    "\n",
    "almostEqual (x1, y1) (x2, y2)\n",
    "  | (x1 == x2) = (y1 == y2) \n",
    "  | (x1 == y2) = (y1 == x2) \n",
    "  | otherwise  = False\n",
    "\n",
    "almostEqual pair1 pair2 \n",
    "  = (pair1 == pair2) || (swap pair1 == pair2)\n",
    "  where \n",
    "    swap (x,y) = (y,x)\n",
    "\n",
    "almostEqual pair1 pair2 \n",
    "  = (pair1 == pair2) || (swap pair1 == swap pair2)\n",
    "  where \n",
    "    swap (x,y) = (y,x)\n",
    "\n",
    "almostEqual (x1, y1) (x2, y2) \n",
    "  = if (x1 == x2) \n",
    "      then\n",
    "        if (y1 == y2) \n",
    "          then True\n",
    "          else False\n",
    "      else \n",
    "        if (x1 == y2) \n",
    "          then \n",
    "            if (x2 == y1)\n",
    "              then True\n",
    "              else False\n",
    "          else False\n",
    "```"
   ]
  },
  {
   "cell_type": "markdown",
   "metadata": {},
   "source": [
    "3. Define a function `isLower :: Char -> Bool` which returns `True` if a given character is a lower case letter. You can use the fact that characters are ordered, and for all lower case letters _ch_ we have _′a′ ≤ ch_ and _ch ≤ ′z′_. Alternatively, you can use the fact that `['a'..'z']` evaluates to a list containing all lower case letters."
   ]
  },
  {
   "cell_type": "markdown",
   "metadata": {},
   "source": [
    "4. Write a function `mangle :: String -> String` which removes the first letter of a word and attaches it at the end. If the string is empty, `mangle` should simply return an empty string:\n",
    "\n",
    "```haskell\n",
    "mangle \"Hello\"   ⇒   \"elloH\"\n",
    "mangle \"I\"   ⇒   \"I\"\n",
    "mangle \"\"   ⇒   \"\"\n",
    "```"
   ]
  },
  {
   "cell_type": "markdown",
   "metadata": {},
   "source": [
    "5. Implement division on `Int`, `divide :: Int -> Int -> Int` using the list functions described in this section. \n",
    "\n",
    "_Hint_: First, write a function that returns all the multiples of a given number up to a specific limit.\n",
    "```haskell\n",
    "divide 5 10   ⇒   2\n",
    "divide 5 8   ⇒   1\n",
    "divide 3 10   ⇒   3\n",
    "```"
   ]
  },
  {
   "cell_type": "code",
   "execution_count": null,
   "metadata": {},
   "outputs": [],
   "source": []
  }
 ],
 "metadata": {
  "kernelspec": {
   "display_name": "Haskell",
   "language": "haskell",
   "name": "haskell"
  },
  "language_info": {
   "codemirror_mode": "ihaskell",
   "file_extension": ".hs",
   "name": "haskell",
   "pygments_lexer": "Haskell",
   "version": "8.6.3"
  }
 },
 "nbformat": 4,
 "nbformat_minor": 2
}
