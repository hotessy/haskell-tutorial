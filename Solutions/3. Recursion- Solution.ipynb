{
 "cells": [
  {
   "cell_type": "markdown",
   "metadata": {},
   "source": [
    "## Content"
   ]
  },
  {
   "cell_type": "markdown",
   "metadata": {},
   "source": [
    "Lesson material at [http://learn.hfm.io/recursion.html](http://learn.hfm.io/recursion.html)"
   ]
  },
  {
   "cell_type": "markdown",
   "metadata": {},
   "source": [
    "## Exercises"
   ]
  },
  {
   "cell_type": "markdown",
   "metadata": {},
   "source": [
    "1. Define the function `length :: [a] -> Int`. It is quite similar to `sum` and `product` in the way it traverses its input list. \n",
    "\n",
    "Since `length` is defined in the `Prelude`, don't forget to hide it by adding the line\n",
    "`import Prelude hiding (length)`\n",
    "to your module."
   ]
  },
  {
   "cell_type": "markdown",
   "metadata": {},
   "source": [
    "2. What are the values of the following expressions and what is wrong with the ones that give errors?\n",
    "\n",
    "```haskell\n",
    "1:[2,3,4]       \n",
    "1:2:3:4:[]\n",
    "[1,2,3]:[4..7]  \n",
    "[1,2,3] ++ [4..7]       \n",
    "1:['a','b']     \n",
    "\"abc\"++\"cd\"\n",
    "\"a\":\"bCc\"\n",
    "\"a\" ++ \"bCc\"\n",
    "'a':'b'\n",
    "'a':\"b\"\n",
    "[1,4,7] ++ 4:[5:[]]     \n",
    "[True,True:[]]  \n",
    "True:[True,False]\n",
    "```"
   ]
  },
  {
   "cell_type": "markdown",
   "metadata": {},
   "source": [
    "3. Write a recursive function `fact` to compute the factorial of a given positive number (ignore the case of 0 for this exercise).\n",
    "\n",
    "```haskell\n",
    "fact n = 1 * 2 * ... * n\n",
    "```\n",
    "\n",
    "Why is the function `fact` a partial function? Add an appropriate error case to the function definition."
   ]
  },
  {
   "cell_type": "markdown",
   "metadata": {},
   "source": [
    "4. In the previous chapter, we introduced the ellipsis list notation in Haskell, which allows us to write `[m..n]` as shorthand for the list `[m, m+1, m+2, ..., n]` for numbers `m` and `n`, with `n` greater or equal `m`. \n",
    "\n",
    "Write a recursive function `enumFromTo` which produces such a list given `m` and `n`, such that\n",
    "\n",
    "```haskell\n",
    "enumFromTo m n = [m..n]\n",
    "```\n",
    "\n",
    "As `enumFromTo` is a `Prelude` function, you have to add the line `import Prelude hiding (enumFromTo)` to your program."
   ]
  },
  {
   "cell_type": "markdown",
   "metadata": {},
   "source": [
    "5. Write a recursive function `countOdds` which calculates the number of odd elements in a list of `Int` values:\n",
    "\n",
    "```haskell\n",
    "countOdds [1, 6, 9, 14, 16, 22] = 2\n",
    "```\n",
    "Hint: You can use the Prelude function `odd :: Int -> Bool`, which tests whether a number is odd."
   ]
  },
  {
   "cell_type": "markdown",
   "metadata": {},
   "source": [
    "6. Write a recursive function removeOdd that, given a list of integers, removes all odd numbers from the list, e.g.,\n",
    "\n",
    "```haskell\n",
    "removeOdd [1, 4, 5, 7, 10] = [4, 10]\n",
    "```"
   ]
  },
  {
   "cell_type": "markdown",
   "metadata": {},
   "source": [
    "7. Challenge: At the end of the last screencast, demonstrating the implementation of  `closestPoint :: Point -> [Point] -> Point`, we mentioned that the final implementation is less efficient than one might hope, as it uses the `distance` functions twice —instead of once— per recursive step. Improve the implementation to avoid that inefficiency."
   ]
  },
  {
   "cell_type": "code",
   "execution_count": null,
   "metadata": {},
   "outputs": [],
   "source": []
  }
 ],
 "metadata": {
  "kernelspec": {
   "display_name": "Haskell",
   "language": "haskell",
   "name": "haskell"
  },
  "language_info": {
   "codemirror_mode": "ihaskell",
   "file_extension": ".hs",
   "name": "haskell",
   "pygments_lexer": "Haskell",
   "version": "8.6.3"
  }
 },
 "nbformat": 4,
 "nbformat_minor": 2
}
