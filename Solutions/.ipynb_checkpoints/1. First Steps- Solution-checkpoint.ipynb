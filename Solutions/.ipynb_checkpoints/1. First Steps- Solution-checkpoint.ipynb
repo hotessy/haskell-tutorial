{
 "cells": [
  {
   "cell_type": "markdown",
   "metadata": {},
   "source": [
    "## Content"
   ]
  },
  {
   "cell_type": "markdown",
   "metadata": {},
   "source": [
    "Lesson material at [http://learn.hfm.io/first_steps.html](http://learn.hfm.io/first_steps.html)"
   ]
  },
  {
   "cell_type": "markdown",
   "metadata": {},
   "source": [
    "## Exercises"
   ]
  },
  {
   "cell_type": "markdown",
   "metadata": {},
   "source": [
    "1. What is the difference between the type `Char` and the type `String`? Do the two expressions \"a\" and 'a' represent the same value?"
   ]
  },
  {
   "cell_type": "markdown",
   "metadata": {},
   "source": [
    "* `Char` = {…, 'a', 'A', 'b', 'B', …'1', …, '@', '#', …}\n",
    "\n",
    "    * `Char` represents a single unicode character. \n",
    "    * The are declared using 'single quotes'. \n",
    "    * A `Char` can not be empty i.e. `a = ''` is illegal. \n",
    "\n",
    "\n",
    "* `String` = {\"\", \"a\", \"b\", …, \"Hi\" ,\"3423#\", …}\n",
    "    * `String` represents a sequence of characters (`Char`). \n",
    "    * The are declared using \"double quotes\". \n",
    "    * A `String` can be empty i.e. `a = \"\"` is legal. "
   ]
  },
  {
   "cell_type": "markdown",
   "metadata": {},
   "source": [
    "2. Given the function definition\n",
    "```haskell\n",
    "square :: Int -> Int\n",
    "square x = x * x\n",
    "```\n",
    "and the previous definitions of `inc` and `double`. What is the value of\n",
    "\n",
    "    1. `inc (square 5)`\n",
    "\n",
    "    2. `square (inc 5)`\n",
    "\n",
    "    3. `average (inc 3) (inc 5)`"
   ]
  },
  {
   "cell_type": "code",
   "execution_count": 78,
   "metadata": {},
   "outputs": [
    {
     "data": {
      "text/plain": [
       "26"
      ]
     },
     "metadata": {},
     "output_type": "display_data"
    },
    {
     "data": {
      "text/plain": [
       "36"
      ]
     },
     "metadata": {},
     "output_type": "display_data"
    },
    {
     "ename": "",
     "evalue": "",
     "output_type": "error",
     "traceback": [
      "<interactive>:1:10: error:\n    • Couldn't match expected type ‘Float’ with actual type ‘Int’\n    • In the first argument of ‘average’, namely ‘(inc 3)’\n      In the expression: average (inc 3) (inc 5)\n      In an equation for ‘it’: it = average (inc 3) (inc 5)\n<interactive>:1:18: error:\n    • Couldn't match expected type ‘Float’ with actual type ‘Int’\n    • In the second argument of ‘average’, namely ‘(inc 5)’\n      In the expression: average (inc 3) (inc 5)\n      In an equation for ‘it’: it = average (inc 3) (inc 5)"
     ]
    }
   ],
   "source": [
    "inc :: Int -> Int\n",
    "inc x = x + 1\n",
    "\n",
    "average :: Float -> Float -> Float\n",
    "average a b  = (a + b) / 2.0\n",
    "\n",
    "double :: Int -> Int\n",
    "double x = x * 2\n",
    "\n",
    "square :: Int -> Int\n",
    "square x = x * x\n",
    "\n",
    "inc (square 5) -- A\n",
    "square (inc 5) -- B\n",
    "average (inc 3) (inc 5) -- C"
   ]
  },
  {
   "cell_type": "markdown",
   "metadata": {},
   "source": [
    "3. If you remove the optional type annotation from the above definition of `square`, what type will the compiler infer? \n",
    "\n",
    "(You can find out by pressing `⌘-i` in Haskell for Mac, while your cursor is on the function name, or by typing  `:type square` or `:t square` in GHCi.)"
   ]
  },
  {
   "cell_type": "code",
   "execution_count": 65,
   "metadata": {},
   "outputs": [],
   "source": [
    "square x = x * x\n",
    "-- :type square"
   ]
  },
  {
   "cell_type": "markdown",
   "metadata": {},
   "source": [
    "4. Which of the following identifiers can be function or variable names?\n",
    "\n",
    "    * square_1\n",
    "\n",
    "    * 1square\n",
    "\n",
    "    * Square\n",
    "\n",
    "    * square!\n",
    "\n",
    "    * square'\n",
    "    \n",
    "( If you are unsure, replace the function name in your square definition from _Exercise 2_ with each of these identifiers to see whether the compiler complains and what the error message looks like."
   ]
  },
  {
   "cell_type": "markdown",
   "metadata": {},
   "source": [
    "* square_1\n",
    "* square!\n",
    "* square'"
   ]
  },
  {
   "cell_type": "markdown",
   "metadata": {},
   "source": [
    "5. Define a new function `showResult`, that, for example, given the number 123, produces a string as follows:\n",
    "\n",
    "```haskell\n",
    "showResult 123  ⇒  \"The result is 123\"\n",
    "```\n",
    "\n",
    "Use the function `show` in the definition of the new function."
   ]
  },
  {
   "cell_type": "code",
   "execution_count": 69,
   "metadata": {},
   "outputs": [
    {
     "data": {
      "text/plain": [
       "\"The result is 123\""
      ]
     },
     "metadata": {},
     "output_type": "display_data"
    }
   ],
   "source": [
    "showResult x = \"The result is \" ++ show x\n",
    "\n",
    "showResult 123"
   ]
  },
  {
   "cell_type": "markdown",
   "metadata": {},
   "source": [
    "6. Write a function `showAreaOfCircle` which, given the radius of a circle, calculates the area of the circle,\n",
    "\n",
    "```haskell\n",
    "showAreaOfCircle 12.3  ⇒  \"The area of a circle with radius 12.3cm is about  475.2915525615999 cm^2\"\n",
    "```\n",
    "\n",
    "Use the `show` function, as well as the predefined value `pi :: Floating a => a` to write `showAreaOfCircle`."
   ]
  },
  {
   "cell_type": "code",
   "execution_count": 75,
   "metadata": {},
   "outputs": [
    {
     "data": {
      "text/plain": [
       "\"The area of a circle with radius 12.3 is about 475.2915525615999 cm^2\""
      ]
     },
     "metadata": {},
     "output_type": "display_data"
    }
   ],
   "source": [
    "showAreaOfCircle r = \"The area of a circle with radius \" ++ show r ++ \" is about \" ++ show (pi*r*r) ++ \" cm^2\"\n",
    "showAreaOfCircle 12.3"
   ]
  },
  {
   "cell_type": "code",
   "execution_count": null,
   "metadata": {},
   "outputs": [],
   "source": []
  }
 ],
 "metadata": {
  "kernelspec": {
   "display_name": "Haskell",
   "language": "haskell",
   "name": "haskell"
  },
  "language_info": {
   "codemirror_mode": "ihaskell",
   "file_extension": ".hs",
   "name": "haskell",
   "pygments_lexer": "Haskell",
   "version": "8.6.3"
  }
 },
 "nbformat": 4,
 "nbformat_minor": 2
}
